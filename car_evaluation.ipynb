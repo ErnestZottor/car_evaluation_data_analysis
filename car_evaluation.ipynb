{
 "cells": [
  {
   "cell_type": "markdown",
   "id": "5f9e20a8",
   "metadata": {},
   "source": [
    "# Importing Necessary tools\n"
   ]
  },
  {
   "cell_type": "code",
   "execution_count": 74,
   "id": "98743a73",
   "metadata": {},
   "outputs": [],
   "source": [
    "import pandas as pd\n",
    "import numpy as np\n",
    "import matplotlib.pyplot as plt\n",
    "import seaborn as sns\n",
    "import joblib"
   ]
  },
  {
   "cell_type": "markdown",
   "id": "8eaba063",
   "metadata": {},
   "source": [
    "# Reading The Dataset"
   ]
  },
  {
   "cell_type": "code",
   "execution_count": 4,
   "id": "7c30eb55",
   "metadata": {},
   "outputs": [],
   "source": [
    "df = pd.read_csv('car_evaluation.csv')"
   ]
  },
  {
   "cell_type": "code",
   "execution_count": 5,
   "id": "e8377850",
   "metadata": {},
   "outputs": [
    {
     "data": {
      "text/html": [
       "<div>\n",
       "<style scoped>\n",
       "    .dataframe tbody tr th:only-of-type {\n",
       "        vertical-align: middle;\n",
       "    }\n",
       "\n",
       "    .dataframe tbody tr th {\n",
       "        vertical-align: top;\n",
       "    }\n",
       "\n",
       "    .dataframe thead th {\n",
       "        text-align: right;\n",
       "    }\n",
       "</style>\n",
       "<table border=\"1\" class=\"dataframe\">\n",
       "  <thead>\n",
       "    <tr style=\"text-align: right;\">\n",
       "      <th></th>\n",
       "      <th>vhigh</th>\n",
       "      <th>vhigh.1</th>\n",
       "      <th>2</th>\n",
       "      <th>2.1</th>\n",
       "      <th>small</th>\n",
       "      <th>low</th>\n",
       "      <th>unacc</th>\n",
       "    </tr>\n",
       "  </thead>\n",
       "  <tbody>\n",
       "    <tr>\n",
       "      <th>0</th>\n",
       "      <td>vhigh</td>\n",
       "      <td>vhigh</td>\n",
       "      <td>2</td>\n",
       "      <td>2</td>\n",
       "      <td>small</td>\n",
       "      <td>med</td>\n",
       "      <td>unacc</td>\n",
       "    </tr>\n",
       "    <tr>\n",
       "      <th>1</th>\n",
       "      <td>vhigh</td>\n",
       "      <td>vhigh</td>\n",
       "      <td>2</td>\n",
       "      <td>2</td>\n",
       "      <td>small</td>\n",
       "      <td>high</td>\n",
       "      <td>unacc</td>\n",
       "    </tr>\n",
       "    <tr>\n",
       "      <th>2</th>\n",
       "      <td>vhigh</td>\n",
       "      <td>vhigh</td>\n",
       "      <td>2</td>\n",
       "      <td>2</td>\n",
       "      <td>med</td>\n",
       "      <td>low</td>\n",
       "      <td>unacc</td>\n",
       "    </tr>\n",
       "    <tr>\n",
       "      <th>3</th>\n",
       "      <td>vhigh</td>\n",
       "      <td>vhigh</td>\n",
       "      <td>2</td>\n",
       "      <td>2</td>\n",
       "      <td>med</td>\n",
       "      <td>med</td>\n",
       "      <td>unacc</td>\n",
       "    </tr>\n",
       "    <tr>\n",
       "      <th>4</th>\n",
       "      <td>vhigh</td>\n",
       "      <td>vhigh</td>\n",
       "      <td>2</td>\n",
       "      <td>2</td>\n",
       "      <td>med</td>\n",
       "      <td>high</td>\n",
       "      <td>unacc</td>\n",
       "    </tr>\n",
       "  </tbody>\n",
       "</table>\n",
       "</div>"
      ],
      "text/plain": [
       "   vhigh vhigh.1  2 2.1  small   low  unacc\n",
       "0  vhigh   vhigh  2   2  small   med  unacc\n",
       "1  vhigh   vhigh  2   2  small  high  unacc\n",
       "2  vhigh   vhigh  2   2    med   low  unacc\n",
       "3  vhigh   vhigh  2   2    med   med  unacc\n",
       "4  vhigh   vhigh  2   2    med  high  unacc"
      ]
     },
     "execution_count": 5,
     "metadata": {},
     "output_type": "execute_result"
    }
   ],
   "source": [
    "df.head()"
   ]
  },
  {
   "cell_type": "code",
   "execution_count": 6,
   "id": "e8271541",
   "metadata": {},
   "outputs": [
    {
     "data": {
      "text/plain": [
       "Index(['vhigh', 'vhigh.1', '2', '2.1', 'small', 'low', 'unacc'], dtype='object')"
      ]
     },
     "execution_count": 6,
     "metadata": {},
     "output_type": "execute_result"
    }
   ],
   "source": [
    "df.columns"
   ]
  },
  {
   "cell_type": "code",
   "execution_count": 7,
   "id": "cc41ed67",
   "metadata": {},
   "outputs": [],
   "source": [
    "columns_name = ['buying', 'maint', 'doors', 'persons', 'lug_boot', 'safety', 'class']"
   ]
  },
  {
   "cell_type": "code",
   "execution_count": 8,
   "id": "ca0a6dff",
   "metadata": {},
   "outputs": [],
   "source": [
    "df.columns = columns_name"
   ]
  },
  {
   "cell_type": "code",
   "execution_count": 9,
   "id": "7e62f0ac",
   "metadata": {},
   "outputs": [
    {
     "data": {
      "text/html": [
       "<div>\n",
       "<style scoped>\n",
       "    .dataframe tbody tr th:only-of-type {\n",
       "        vertical-align: middle;\n",
       "    }\n",
       "\n",
       "    .dataframe tbody tr th {\n",
       "        vertical-align: top;\n",
       "    }\n",
       "\n",
       "    .dataframe thead th {\n",
       "        text-align: right;\n",
       "    }\n",
       "</style>\n",
       "<table border=\"1\" class=\"dataframe\">\n",
       "  <thead>\n",
       "    <tr style=\"text-align: right;\">\n",
       "      <th></th>\n",
       "      <th>buying</th>\n",
       "      <th>maint</th>\n",
       "      <th>doors</th>\n",
       "      <th>persons</th>\n",
       "      <th>lug_boot</th>\n",
       "      <th>safety</th>\n",
       "      <th>class</th>\n",
       "    </tr>\n",
       "  </thead>\n",
       "  <tbody>\n",
       "    <tr>\n",
       "      <th>0</th>\n",
       "      <td>vhigh</td>\n",
       "      <td>vhigh</td>\n",
       "      <td>2</td>\n",
       "      <td>2</td>\n",
       "      <td>small</td>\n",
       "      <td>med</td>\n",
       "      <td>unacc</td>\n",
       "    </tr>\n",
       "    <tr>\n",
       "      <th>1</th>\n",
       "      <td>vhigh</td>\n",
       "      <td>vhigh</td>\n",
       "      <td>2</td>\n",
       "      <td>2</td>\n",
       "      <td>small</td>\n",
       "      <td>high</td>\n",
       "      <td>unacc</td>\n",
       "    </tr>\n",
       "    <tr>\n",
       "      <th>2</th>\n",
       "      <td>vhigh</td>\n",
       "      <td>vhigh</td>\n",
       "      <td>2</td>\n",
       "      <td>2</td>\n",
       "      <td>med</td>\n",
       "      <td>low</td>\n",
       "      <td>unacc</td>\n",
       "    </tr>\n",
       "    <tr>\n",
       "      <th>3</th>\n",
       "      <td>vhigh</td>\n",
       "      <td>vhigh</td>\n",
       "      <td>2</td>\n",
       "      <td>2</td>\n",
       "      <td>med</td>\n",
       "      <td>med</td>\n",
       "      <td>unacc</td>\n",
       "    </tr>\n",
       "    <tr>\n",
       "      <th>4</th>\n",
       "      <td>vhigh</td>\n",
       "      <td>vhigh</td>\n",
       "      <td>2</td>\n",
       "      <td>2</td>\n",
       "      <td>med</td>\n",
       "      <td>high</td>\n",
       "      <td>unacc</td>\n",
       "    </tr>\n",
       "  </tbody>\n",
       "</table>\n",
       "</div>"
      ],
      "text/plain": [
       "  buying  maint doors persons lug_boot safety  class\n",
       "0  vhigh  vhigh     2       2    small    med  unacc\n",
       "1  vhigh  vhigh     2       2    small   high  unacc\n",
       "2  vhigh  vhigh     2       2      med    low  unacc\n",
       "3  vhigh  vhigh     2       2      med    med  unacc\n",
       "4  vhigh  vhigh     2       2      med   high  unacc"
      ]
     },
     "execution_count": 9,
     "metadata": {},
     "output_type": "execute_result"
    }
   ],
   "source": [
    "df.head()"
   ]
  },
  {
   "cell_type": "markdown",
   "id": "7b8afc3c",
   "metadata": {},
   "source": [
    "The Columns represent the following:\n",
    "- buying: price of car\n",
    "- maint: price of maintenance\n",
    "- doors: number of doors\n",
    "- persons: maximum number of passengers the car can take\n",
    "- lug_boot: size of luggage compartment\n",
    "- safety: estimated safety of car\n",
    "- class: car acceptability level"
   ]
  },
  {
   "cell_type": "code",
   "execution_count": 86,
   "id": "ae1257b1",
   "metadata": {},
   "outputs": [
    {
     "data": {
      "text/html": [
       "<div>\n",
       "<style scoped>\n",
       "    .dataframe tbody tr th:only-of-type {\n",
       "        vertical-align: middle;\n",
       "    }\n",
       "\n",
       "    .dataframe tbody tr th {\n",
       "        vertical-align: top;\n",
       "    }\n",
       "\n",
       "    .dataframe thead th {\n",
       "        text-align: right;\n",
       "    }\n",
       "</style>\n",
       "<table border=\"1\" class=\"dataframe\">\n",
       "  <thead>\n",
       "    <tr style=\"text-align: right;\">\n",
       "      <th></th>\n",
       "      <th>buying</th>\n",
       "      <th>maint</th>\n",
       "      <th>doors</th>\n",
       "      <th>persons</th>\n",
       "      <th>lug_boot</th>\n",
       "      <th>safety</th>\n",
       "      <th>class</th>\n",
       "    </tr>\n",
       "  </thead>\n",
       "  <tbody>\n",
       "    <tr>\n",
       "      <th>1113</th>\n",
       "      <td>med</td>\n",
       "      <td>med</td>\n",
       "      <td>3</td>\n",
       "      <td>2</td>\n",
       "      <td>big</td>\n",
       "      <td>med</td>\n",
       "      <td>unacc</td>\n",
       "    </tr>\n",
       "    <tr>\n",
       "      <th>102</th>\n",
       "      <td>vhigh</td>\n",
       "      <td>vhigh</td>\n",
       "      <td>5more</td>\n",
       "      <td>more</td>\n",
       "      <td>med</td>\n",
       "      <td>med</td>\n",
       "      <td>unacc</td>\n",
       "    </tr>\n",
       "    <tr>\n",
       "      <th>269</th>\n",
       "      <td>vhigh</td>\n",
       "      <td>med</td>\n",
       "      <td>4</td>\n",
       "      <td>2</td>\n",
       "      <td>small</td>\n",
       "      <td>low</td>\n",
       "      <td>unacc</td>\n",
       "    </tr>\n",
       "    <tr>\n",
       "      <th>739</th>\n",
       "      <td>high</td>\n",
       "      <td>med</td>\n",
       "      <td>5more</td>\n",
       "      <td>4</td>\n",
       "      <td>small</td>\n",
       "      <td>high</td>\n",
       "      <td>acc</td>\n",
       "    </tr>\n",
       "    <tr>\n",
       "      <th>317</th>\n",
       "      <td>vhigh</td>\n",
       "      <td>med</td>\n",
       "      <td>5more</td>\n",
       "      <td>more</td>\n",
       "      <td>med</td>\n",
       "      <td>low</td>\n",
       "      <td>unacc</td>\n",
       "    </tr>\n",
       "  </tbody>\n",
       "</table>\n",
       "</div>"
      ],
      "text/plain": [
       "     buying  maint  doors persons lug_boot safety  class\n",
       "1113    med    med      3       2      big    med  unacc\n",
       "102   vhigh  vhigh  5more    more      med    med  unacc\n",
       "269   vhigh    med      4       2    small    low  unacc\n",
       "739    high    med  5more       4    small   high    acc\n",
       "317   vhigh    med  5more    more      med    low  unacc"
      ]
     },
     "execution_count": 86,
     "metadata": {},
     "output_type": "execute_result"
    }
   ],
   "source": [
    "df.sample(5)\n"
   ]
  },
  {
   "cell_type": "code",
   "execution_count": 83,
   "id": "070cecef",
   "metadata": {},
   "outputs": [
    {
     "data": {
      "text/plain": [
       "(1727, 7)"
      ]
     },
     "execution_count": 83,
     "metadata": {},
     "output_type": "execute_result"
    }
   ],
   "source": [
    "df.shape"
   ]
  },
  {
   "cell_type": "code",
   "execution_count": 12,
   "id": "ed4e050b",
   "metadata": {},
   "outputs": [
    {
     "name": "stdout",
     "output_type": "stream",
     "text": [
      "<class 'pandas.core.frame.DataFrame'>\n",
      "RangeIndex: 1727 entries, 0 to 1726\n",
      "Data columns (total 7 columns):\n",
      " #   Column    Non-Null Count  Dtype \n",
      "---  ------    --------------  ----- \n",
      " 0   buying    1727 non-null   object\n",
      " 1   maint     1727 non-null   object\n",
      " 2   doors     1727 non-null   object\n",
      " 3   persons   1727 non-null   object\n",
      " 4   lug_boot  1727 non-null   object\n",
      " 5   safety    1727 non-null   object\n",
      " 6   class     1727 non-null   object\n",
      "dtypes: object(7)\n",
      "memory usage: 94.6+ KB\n"
     ]
    }
   ],
   "source": [
    "df.info()"
   ]
  },
  {
   "cell_type": "markdown",
   "id": "aac5447f",
   "metadata": {},
   "source": [
    "The dataset contains 1727 rows of data and 7 columns and it has no missing data entries.\n",
    "The data type of all the seven columns are object data type. The data will be encoded for \n",
    "the purpose for use in the machine learning model so there is no need to convert any data type"
   ]
  },
  {
   "cell_type": "code",
   "execution_count": 13,
   "id": "c6079619",
   "metadata": {},
   "outputs": [
    {
     "data": {
      "text/html": [
       "<div>\n",
       "<style scoped>\n",
       "    .dataframe tbody tr th:only-of-type {\n",
       "        vertical-align: middle;\n",
       "    }\n",
       "\n",
       "    .dataframe tbody tr th {\n",
       "        vertical-align: top;\n",
       "    }\n",
       "\n",
       "    .dataframe thead th {\n",
       "        text-align: right;\n",
       "    }\n",
       "</style>\n",
       "<table border=\"1\" class=\"dataframe\">\n",
       "  <thead>\n",
       "    <tr style=\"text-align: right;\">\n",
       "      <th></th>\n",
       "      <th>buying</th>\n",
       "      <th>maint</th>\n",
       "      <th>doors</th>\n",
       "      <th>persons</th>\n",
       "      <th>lug_boot</th>\n",
       "      <th>safety</th>\n",
       "      <th>class</th>\n",
       "    </tr>\n",
       "  </thead>\n",
       "  <tbody>\n",
       "    <tr>\n",
       "      <th>count</th>\n",
       "      <td>1727</td>\n",
       "      <td>1727</td>\n",
       "      <td>1727</td>\n",
       "      <td>1727</td>\n",
       "      <td>1727</td>\n",
       "      <td>1727</td>\n",
       "      <td>1727</td>\n",
       "    </tr>\n",
       "    <tr>\n",
       "      <th>unique</th>\n",
       "      <td>4</td>\n",
       "      <td>4</td>\n",
       "      <td>4</td>\n",
       "      <td>3</td>\n",
       "      <td>3</td>\n",
       "      <td>3</td>\n",
       "      <td>4</td>\n",
       "    </tr>\n",
       "    <tr>\n",
       "      <th>top</th>\n",
       "      <td>med</td>\n",
       "      <td>med</td>\n",
       "      <td>5more</td>\n",
       "      <td>more</td>\n",
       "      <td>med</td>\n",
       "      <td>med</td>\n",
       "      <td>unacc</td>\n",
       "    </tr>\n",
       "    <tr>\n",
       "      <th>freq</th>\n",
       "      <td>432</td>\n",
       "      <td>432</td>\n",
       "      <td>432</td>\n",
       "      <td>576</td>\n",
       "      <td>576</td>\n",
       "      <td>576</td>\n",
       "      <td>1209</td>\n",
       "    </tr>\n",
       "  </tbody>\n",
       "</table>\n",
       "</div>"
      ],
      "text/plain": [
       "       buying maint  doors persons lug_boot safety  class\n",
       "count    1727  1727   1727    1727     1727   1727   1727\n",
       "unique      4     4      4       3        3      3      4\n",
       "top       med   med  5more    more      med    med  unacc\n",
       "freq      432   432    432     576      576    576   1209"
      ]
     },
     "execution_count": 13,
     "metadata": {},
     "output_type": "execute_result"
    }
   ],
   "source": [
    "df.describe()"
   ]
  },
  {
   "cell_type": "markdown",
   "id": "d7732e4b",
   "metadata": {},
   "source": [
    "The columns of the dataset has categories ranging from 3 to 4. The top displays the most frequent categories and the number of times it occured is displayed in the freq row."
   ]
  },
  {
   "cell_type": "code",
   "execution_count": 87,
   "id": "5749bd29",
   "metadata": {},
   "outputs": [
    {
     "data": {
      "text/plain": [
       "buying      0\n",
       "maint       0\n",
       "doors       0\n",
       "persons     0\n",
       "lug_boot    0\n",
       "safety      0\n",
       "class       0\n",
       "dtype: int64"
      ]
     },
     "execution_count": 87,
     "metadata": {},
     "output_type": "execute_result"
    }
   ],
   "source": [
    "df.isna().sum()"
   ]
  },
  {
   "cell_type": "markdown",
   "id": "eb0d7068",
   "metadata": {},
   "source": [
    "None of the rows has a null entry"
   ]
  },
  {
   "cell_type": "code",
   "execution_count": 15,
   "id": "f8872f12",
   "metadata": {},
   "outputs": [
    {
     "data": {
      "text/plain": [
       "array(['buying', 'maint', 'doors', 'persons', 'lug_boot', 'safety',\n",
       "       'class'], dtype=object)"
      ]
     },
     "execution_count": 15,
     "metadata": {},
     "output_type": "execute_result"
    }
   ],
   "source": [
    "df.columns.values"
   ]
  },
  {
   "cell_type": "markdown",
   "id": "aafb98d5",
   "metadata": {},
   "source": [
    "Checking the different categories in each column"
   ]
  },
  {
   "cell_type": "code",
   "execution_count": 16,
   "id": "14322635",
   "metadata": {},
   "outputs": [
    {
     "name": "stdout",
     "output_type": "stream",
     "text": [
      "buying: ['vhigh' 'high' 'med' 'low']\n",
      "maint: ['vhigh' 'high' 'med' 'low']\n",
      "doors: ['2' '3' '4' '5more']\n",
      "persons: ['2' '4' 'more']\n",
      "lug_boot: ['small' 'med' 'big']\n",
      "safety: ['med' 'high' 'low']\n",
      "class: ['unacc' 'acc' 'vgood' 'good']\n"
     ]
    }
   ],
   "source": [
    "col_names =list(df.columns.values)\n",
    "for col_name in col_names:\n",
    "    unique_val = df[col_name].unique()\n",
    "    print('{}: {}'.format(col_name, unique_val))\n",
    "    "
   ]
  },
  {
   "cell_type": "markdown",
   "id": "f4e99827",
   "metadata": {},
   "source": [
    "All the columns contain ordinal data with three or four values"
   ]
  },
  {
   "cell_type": "code",
   "execution_count": 17,
   "id": "ab4384c3",
   "metadata": {},
   "outputs": [
    {
     "data": {
      "text/plain": [
       "unacc    1209\n",
       "acc       384\n",
       "good       69\n",
       "vgood      65\n",
       "Name: class, dtype: int64"
      ]
     },
     "execution_count": 17,
     "metadata": {},
     "output_type": "execute_result"
    }
   ],
   "source": [
    "df['class'].value_counts()"
   ]
  },
  {
   "cell_type": "markdown",
   "id": "2d85adff",
   "metadata": {},
   "source": [
    "- The data set is clearly dominated by unacceptable car"
   ]
  },
  {
   "cell_type": "markdown",
   "id": "1d40dec7",
   "metadata": {},
   "source": [
    "\n",
    "# Hypothesis Generation\n",
    "\n",
    "- A high quality buying level indicates more acceptable level for car evaluation.\n",
    "- A low maintainence car is more acceptable than others.\n",
    "- A car with 4 doors is preferable and more acceptable than other variants.\n",
    "- The number of persons should be ideally greater in order to accomodate more people will be more acceptable.\n",
    "- A bigger boot in the car is more acceptable.\n",
    "- The safety should be ideally medium to high that would be preferable.\n",
    "- The classes are unacceptable, acceptable, very good and good as the target variables.\n",
    "\n"
   ]
  },
  {
   "cell_type": "code",
   "execution_count": 18,
   "id": "5758dcb6",
   "metadata": {},
   "outputs": [
    {
     "name": "stderr",
     "output_type": "stream",
     "text": [
      "C:\\Users\\Trainee-Judah\\anaconda3\\lib\\site-packages\\seaborn\\_decorators.py:36: FutureWarning: Pass the following variable as a keyword arg: x. From version 0.12, the only valid positional argument will be `data`, and passing other arguments without an explicit keyword will result in an error or misinterpretation.\n",
      "  warnings.warn(\n"
     ]
    },
    {
     "data": {
      "text/plain": [
       "<AxesSubplot:xlabel='class', ylabel='count'>"
      ]
     },
     "execution_count": 18,
     "metadata": {},
     "output_type": "execute_result"
    },
    {
     "data": {
      "image/png": "[encoded data removed]",
      "text/plain": [
       "<Figure size 432x288 with 1 Axes>"
      ]
     },
     "metadata": {
      "needs_background": "light"
     },
     "output_type": "display_data"
    }
   ],
   "source": [
    "sns.countplot(df['class'])"
   ]
  },
  {
   "cell_type": "markdown",
   "id": "0aece986",
   "metadata": {},
   "source": [
    "The dataset is clearly dominated by unacceptable cars"
   ]
  },
  {
   "cell_type": "code",
   "execution_count": 19,
   "id": "39ebc6cb",
   "metadata": {},
   "outputs": [
    {
     "data": {
      "text/plain": [
       "<seaborn.axisgrid.FacetGrid at 0x1966c4c2eb0>"
      ]
     },
     "execution_count": 19,
     "metadata": {},
     "output_type": "execute_result"
    },
    {
     "data": {
      "image/png": "[encoded data removed]",
      "text/plain": [
       "<Figure size 426.625x360 with 1 Axes>"
      ]
     },
     "metadata": {
      "needs_background": "light"
     },
     "output_type": "display_data"
    }
   ],
   "source": [
    "sns.catplot(kind='count', x='buying', hue='class', data=df)"
   ]
  },
  {
   "cell_type": "markdown",
   "id": "d6ba2547",
   "metadata": {},
   "source": [
    "- From the data medium buying level cars are most acceptable compared to others. Expensive cars are the most unacceptable and low grades car too are not wanted. "
   ]
  },
  {
   "cell_type": "code",
   "execution_count": 20,
   "id": "fb336387",
   "metadata": {},
   "outputs": [
    {
     "data": {
      "text/plain": [
       "<seaborn.axisgrid.FacetGrid at 0x1966c5a3700>"
      ]
     },
     "execution_count": 20,
     "metadata": {},
     "output_type": "execute_result"
    },
    {
     "data": {
      "image/png": "[encoded data removed]",
      "text/plain": [
       "<Figure size 426.625x360 with 1 Axes>"
      ]
     },
     "metadata": {
      "needs_background": "light"
     },
     "output_type": "display_data"
    }
   ],
   "source": [
    "sns.catplot(kind='count', x='maint', hue='class', data=df)"
   ]
  },
  {
   "cell_type": "markdown",
   "id": "06e8656b",
   "metadata": {},
   "source": [
    "- Cars with maintenance cost of medium to high is preferable, which is expected as the maintenance cost is linked to the price of the car. The higher the price of the car, the higher the maintenance cost."
   ]
  },
  {
   "cell_type": "code",
   "execution_count": 21,
   "id": "0ca36fd7",
   "metadata": {},
   "outputs": [
    {
     "data": {
      "text/plain": [
       "<seaborn.axisgrid.FacetGrid at 0x1966c64a2e0>"
      ]
     },
     "execution_count": 21,
     "metadata": {},
     "output_type": "execute_result"
    },
    {
     "data": {
      "image/png": "[encoded data removed]",
      "text/plain": [
       "<Figure size 426.625x360 with 1 Axes>"
      ]
     },
     "metadata": {
      "needs_background": "light"
     },
     "output_type": "display_data"
    }
   ],
   "source": [
    "sns.catplot(kind='count', x='doors', hue='class', data=df)"
   ]
  },
  {
   "cell_type": "markdown",
   "id": "6d137947",
   "metadata": {},
   "source": [
    "- The number of doors is equivalently distributed between 3,4 to 5 or more cars, and 2 door cars are not preferred."
   ]
  },
  {
   "cell_type": "code",
   "execution_count": 22,
   "id": "743e5afb",
   "metadata": {},
   "outputs": [
    {
     "data": {
      "text/plain": [
       "<seaborn.axisgrid.FacetGrid at 0x1966c5c0ee0>"
      ]
     },
     "execution_count": 22,
     "metadata": {},
     "output_type": "execute_result"
    },
    {
     "data": {
      "image/png": "[encoded data removed]",
      "text/plain": [
       "<Figure size 426.625x360 with 1 Axes>"
      ]
     },
     "metadata": {
      "needs_background": "light"
     },
     "output_type": "display_data"
    }
   ],
   "source": [
    "sns.catplot(kind='count', x='persons', hue='class', data=df)"
   ]
  },
  {
   "cell_type": "markdown",
   "id": "53162640",
   "metadata": {},
   "source": [
    "- 4 and more person cars are most acceptable and a single user prefers cars with 2 person accomodation."
   ]
  },
  {
   "cell_type": "code",
   "execution_count": 23,
   "id": "cdd7c79d",
   "metadata": {},
   "outputs": [
    {
     "data": {
      "text/plain": [
       "<seaborn.axisgrid.FacetGrid at 0x1966c6e0fd0>"
      ]
     },
     "execution_count": 23,
     "metadata": {},
     "output_type": "execute_result"
    },
    {
     "data": {
      "image/png": "[encoded data removed]",
      "text/plain": [
       "<Figure size 426.625x360 with 1 Axes>"
      ]
     },
     "metadata": {
      "needs_background": "light"
     },
     "output_type": "display_data"
    }
   ],
   "source": [
    "sns.catplot(kind='count', x='lug_boot', hue='class', data=df)"
   ]
  },
  {
   "cell_type": "markdown",
   "id": "b5461699",
   "metadata": {},
   "source": [
    "- The big boot sized luggage cars are the most acceptable"
   ]
  },
  {
   "cell_type": "code",
   "execution_count": 24,
   "id": "f59069b5",
   "metadata": {},
   "outputs": [
    {
     "data": {
      "text/plain": [
       "<seaborn.axisgrid.FacetGrid at 0x1966c7700a0>"
      ]
     },
     "execution_count": 24,
     "metadata": {},
     "output_type": "execute_result"
    },
    {
     "data": {
      "image/png": "[encoded data removed]",
      "text/plain": [
       "<Figure size 426.625x360 with 1 Axes>"
      ]
     },
     "metadata": {
      "needs_background": "light"
     },
     "output_type": "display_data"
    }
   ],
   "source": [
    "sns.catplot(kind='count', x='safety', hue='class', data=df)"
   ]
  },
  {
   "cell_type": "markdown",
   "id": "eb7cab9a",
   "metadata": {},
   "source": [
    "- The high safety vehicles are most preferred"
   ]
  },
  {
   "cell_type": "code",
   "execution_count": 25,
   "id": "765fd144",
   "metadata": {},
   "outputs": [],
   "source": [
    "x = df.drop(['class'], axis=1)\n",
    "y = df['class']"
   ]
  },
  {
   "cell_type": "code",
   "execution_count": 26,
   "id": "c9f681ce",
   "metadata": {},
   "outputs": [
    {
     "data": {
      "text/html": [
       "<div>\n",
       "<style scoped>\n",
       "    .dataframe tbody tr th:only-of-type {\n",
       "        vertical-align: middle;\n",
       "    }\n",
       "\n",
       "    .dataframe tbody tr th {\n",
       "        vertical-align: top;\n",
       "    }\n",
       "\n",
       "    .dataframe thead th {\n",
       "        text-align: right;\n",
       "    }\n",
       "</style>\n",
       "<table border=\"1\" class=\"dataframe\">\n",
       "  <thead>\n",
       "    <tr style=\"text-align: right;\">\n",
       "      <th></th>\n",
       "      <th>buying</th>\n",
       "      <th>maint</th>\n",
       "      <th>doors</th>\n",
       "      <th>persons</th>\n",
       "      <th>lug_boot</th>\n",
       "      <th>safety</th>\n",
       "    </tr>\n",
       "  </thead>\n",
       "  <tbody>\n",
       "    <tr>\n",
       "      <th>0</th>\n",
       "      <td>vhigh</td>\n",
       "      <td>vhigh</td>\n",
       "      <td>2</td>\n",
       "      <td>2</td>\n",
       "      <td>small</td>\n",
       "      <td>med</td>\n",
       "    </tr>\n",
       "    <tr>\n",
       "      <th>1</th>\n",
       "      <td>vhigh</td>\n",
       "      <td>vhigh</td>\n",
       "      <td>2</td>\n",
       "      <td>2</td>\n",
       "      <td>small</td>\n",
       "      <td>high</td>\n",
       "    </tr>\n",
       "    <tr>\n",
       "      <th>2</th>\n",
       "      <td>vhigh</td>\n",
       "      <td>vhigh</td>\n",
       "      <td>2</td>\n",
       "      <td>2</td>\n",
       "      <td>med</td>\n",
       "      <td>low</td>\n",
       "    </tr>\n",
       "    <tr>\n",
       "      <th>3</th>\n",
       "      <td>vhigh</td>\n",
       "      <td>vhigh</td>\n",
       "      <td>2</td>\n",
       "      <td>2</td>\n",
       "      <td>med</td>\n",
       "      <td>med</td>\n",
       "    </tr>\n",
       "    <tr>\n",
       "      <th>4</th>\n",
       "      <td>vhigh</td>\n",
       "      <td>vhigh</td>\n",
       "      <td>2</td>\n",
       "      <td>2</td>\n",
       "      <td>med</td>\n",
       "      <td>high</td>\n",
       "    </tr>\n",
       "  </tbody>\n",
       "</table>\n",
       "</div>"
      ],
      "text/plain": [
       "  buying  maint doors persons lug_boot safety\n",
       "0  vhigh  vhigh     2       2    small    med\n",
       "1  vhigh  vhigh     2       2    small   high\n",
       "2  vhigh  vhigh     2       2      med    low\n",
       "3  vhigh  vhigh     2       2      med    med\n",
       "4  vhigh  vhigh     2       2      med   high"
      ]
     },
     "execution_count": 26,
     "metadata": {},
     "output_type": "execute_result"
    }
   ],
   "source": [
    "x.head()"
   ]
  },
  {
   "cell_type": "code",
   "execution_count": 27,
   "id": "86ab47eb",
   "metadata": {},
   "outputs": [
    {
     "data": {
      "text/plain": [
       "0    unacc\n",
       "1    unacc\n",
       "2    unacc\n",
       "3    unacc\n",
       "4    unacc\n",
       "Name: class, dtype: object"
      ]
     },
     "execution_count": 27,
     "metadata": {},
     "output_type": "execute_result"
    }
   ],
   "source": [
    "y.head()"
   ]
  },
  {
   "cell_type": "markdown",
   "id": "fcea1287",
   "metadata": {},
   "source": [
    "# Encoding The Data"
   ]
  },
  {
   "cell_type": "markdown",
   "id": "f41188d9",
   "metadata": {},
   "source": [
    "As shown above each column contains ordinal data. Ordinal data is categorical data which has some natural ordering (e.g. in the buying column the values range from low to vhigh. However in order for the model algorithm to use the data it needs to be in numerical form and this is achieved through encoding. "
   ]
  },
  {
   "cell_type": "code",
   "execution_count": 28,
   "id": "ad313139",
   "metadata": {},
   "outputs": [
    {
     "data": {
      "text/html": [
       "<div>\n",
       "<style scoped>\n",
       "    .dataframe tbody tr th:only-of-type {\n",
       "        vertical-align: middle;\n",
       "    }\n",
       "\n",
       "    .dataframe tbody tr th {\n",
       "        vertical-align: top;\n",
       "    }\n",
       "\n",
       "    .dataframe thead th {\n",
       "        text-align: right;\n",
       "    }\n",
       "</style>\n",
       "<table border=\"1\" class=\"dataframe\">\n",
       "  <thead>\n",
       "    <tr style=\"text-align: right;\">\n",
       "      <th></th>\n",
       "      <th>buying</th>\n",
       "      <th>maint</th>\n",
       "      <th>doors</th>\n",
       "      <th>persons</th>\n",
       "      <th>lug_boot</th>\n",
       "      <th>safety</th>\n",
       "      <th>class</th>\n",
       "    </tr>\n",
       "  </thead>\n",
       "  <tbody>\n",
       "    <tr>\n",
       "      <th>0</th>\n",
       "      <td>vhigh</td>\n",
       "      <td>vhigh</td>\n",
       "      <td>2</td>\n",
       "      <td>2</td>\n",
       "      <td>small</td>\n",
       "      <td>med</td>\n",
       "      <td>unacc</td>\n",
       "    </tr>\n",
       "    <tr>\n",
       "      <th>1</th>\n",
       "      <td>vhigh</td>\n",
       "      <td>vhigh</td>\n",
       "      <td>2</td>\n",
       "      <td>2</td>\n",
       "      <td>small</td>\n",
       "      <td>high</td>\n",
       "      <td>unacc</td>\n",
       "    </tr>\n",
       "    <tr>\n",
       "      <th>2</th>\n",
       "      <td>vhigh</td>\n",
       "      <td>vhigh</td>\n",
       "      <td>2</td>\n",
       "      <td>2</td>\n",
       "      <td>med</td>\n",
       "      <td>low</td>\n",
       "      <td>unacc</td>\n",
       "    </tr>\n",
       "    <tr>\n",
       "      <th>3</th>\n",
       "      <td>vhigh</td>\n",
       "      <td>vhigh</td>\n",
       "      <td>2</td>\n",
       "      <td>2</td>\n",
       "      <td>med</td>\n",
       "      <td>med</td>\n",
       "      <td>unacc</td>\n",
       "    </tr>\n",
       "    <tr>\n",
       "      <th>4</th>\n",
       "      <td>vhigh</td>\n",
       "      <td>vhigh</td>\n",
       "      <td>2</td>\n",
       "      <td>2</td>\n",
       "      <td>med</td>\n",
       "      <td>high</td>\n",
       "      <td>unacc</td>\n",
       "    </tr>\n",
       "  </tbody>\n",
       "</table>\n",
       "</div>"
      ],
      "text/plain": [
       "  buying  maint doors persons lug_boot safety  class\n",
       "0  vhigh  vhigh     2       2    small    med  unacc\n",
       "1  vhigh  vhigh     2       2    small   high  unacc\n",
       "2  vhigh  vhigh     2       2      med    low  unacc\n",
       "3  vhigh  vhigh     2       2      med    med  unacc\n",
       "4  vhigh  vhigh     2       2      med   high  unacc"
      ]
     },
     "execution_count": 28,
     "metadata": {},
     "output_type": "execute_result"
    }
   ],
   "source": [
    "df_encode = df.copy()\n",
    "df_encode.head()"
   ]
  },
  {
   "cell_type": "code",
   "execution_count": 29,
   "id": "7697ad0b",
   "metadata": {},
   "outputs": [
    {
     "data": {
      "text/html": [
       "<div>\n",
       "<style scoped>\n",
       "    .dataframe tbody tr th:only-of-type {\n",
       "        vertical-align: middle;\n",
       "    }\n",
       "\n",
       "    .dataframe tbody tr th {\n",
       "        vertical-align: top;\n",
       "    }\n",
       "\n",
       "    .dataframe thead th {\n",
       "        text-align: right;\n",
       "    }\n",
       "</style>\n",
       "<table border=\"1\" class=\"dataframe\">\n",
       "  <thead>\n",
       "    <tr style=\"text-align: right;\">\n",
       "      <th></th>\n",
       "      <th>buying</th>\n",
       "      <th>maint</th>\n",
       "      <th>doors</th>\n",
       "      <th>persons</th>\n",
       "      <th>lug_boot</th>\n",
       "      <th>safety</th>\n",
       "      <th>class</th>\n",
       "    </tr>\n",
       "  </thead>\n",
       "  <tbody>\n",
       "    <tr>\n",
       "      <th>0</th>\n",
       "      <td>3</td>\n",
       "      <td>3</td>\n",
       "      <td>0</td>\n",
       "      <td>0</td>\n",
       "      <td>0</td>\n",
       "      <td>1</td>\n",
       "      <td>0</td>\n",
       "    </tr>\n",
       "    <tr>\n",
       "      <th>1</th>\n",
       "      <td>3</td>\n",
       "      <td>3</td>\n",
       "      <td>0</td>\n",
       "      <td>0</td>\n",
       "      <td>0</td>\n",
       "      <td>2</td>\n",
       "      <td>0</td>\n",
       "    </tr>\n",
       "    <tr>\n",
       "      <th>2</th>\n",
       "      <td>3</td>\n",
       "      <td>3</td>\n",
       "      <td>0</td>\n",
       "      <td>0</td>\n",
       "      <td>1</td>\n",
       "      <td>0</td>\n",
       "      <td>0</td>\n",
       "    </tr>\n",
       "    <tr>\n",
       "      <th>3</th>\n",
       "      <td>3</td>\n",
       "      <td>3</td>\n",
       "      <td>0</td>\n",
       "      <td>0</td>\n",
       "      <td>1</td>\n",
       "      <td>1</td>\n",
       "      <td>0</td>\n",
       "    </tr>\n",
       "    <tr>\n",
       "      <th>4</th>\n",
       "      <td>3</td>\n",
       "      <td>3</td>\n",
       "      <td>0</td>\n",
       "      <td>0</td>\n",
       "      <td>1</td>\n",
       "      <td>2</td>\n",
       "      <td>0</td>\n",
       "    </tr>\n",
       "  </tbody>\n",
       "</table>\n",
       "</div>"
      ],
      "text/plain": [
       "   buying  maint  doors  persons  lug_boot  safety  class\n",
       "0       3      3      0        0         0       1      0\n",
       "1       3      3      0        0         0       2      0\n",
       "2       3      3      0        0         1       0      0\n",
       "3       3      3      0        0         1       1      0\n",
       "4       3      3      0        0         1       2      0"
      ]
     },
     "execution_count": 29,
     "metadata": {},
     "output_type": "execute_result"
    }
   ],
   "source": [
    "df_encode['buying'] = df_encode['buying'].map({'low':0, 'med':1, 'high':2, 'vhigh':3})\n",
    "df_encode['maint'] = df_encode['maint'].map({'low':0, 'med':1, 'high':2, 'vhigh':3})\n",
    "df_encode['doors'] = df_encode['doors'].map({'2':0, '3':1, '4':2, '5more':3})\n",
    "df_encode['persons'] = df_encode['persons'].map({'2':0, '4':1, 'more':2})\n",
    "df_encode['lug_boot'] = df_encode['lug_boot'].map({'small':0, 'med':1, 'big':2})\n",
    "df_encode['safety'] = df_encode['safety'].map({'low':0, 'med':1, 'high':2})\n",
    "df_encode['class'] = df_encode['class'].map({'unacc':0, 'acc':1, 'good':2, 'vgood':3})\n",
    "df_encode.head()"
   ]
  },
  {
   "cell_type": "markdown",
   "id": "38816f47",
   "metadata": {},
   "source": [
    "### Creating and evaluating the model"
   ]
  },
  {
   "cell_type": "code",
   "execution_count": 30,
   "id": "22da6be5",
   "metadata": {},
   "outputs": [],
   "source": [
    "\n",
    "X = df_encode.drop(['class'], axis=1)\n",
    "y = df_encode['class']\n"
   ]
  },
  {
   "cell_type": "code",
   "execution_count": 31,
   "id": "6435c1e4",
   "metadata": {},
   "outputs": [
    {
     "data": {
      "text/html": [
       "<div>\n",
       "<style scoped>\n",
       "    .dataframe tbody tr th:only-of-type {\n",
       "        vertical-align: middle;\n",
       "    }\n",
       "\n",
       "    .dataframe tbody tr th {\n",
       "        vertical-align: top;\n",
       "    }\n",
       "\n",
       "    .dataframe thead th {\n",
       "        text-align: right;\n",
       "    }\n",
       "</style>\n",
       "<table border=\"1\" class=\"dataframe\">\n",
       "  <thead>\n",
       "    <tr style=\"text-align: right;\">\n",
       "      <th></th>\n",
       "      <th>buying</th>\n",
       "      <th>maint</th>\n",
       "      <th>doors</th>\n",
       "      <th>persons</th>\n",
       "      <th>lug_boot</th>\n",
       "      <th>safety</th>\n",
       "    </tr>\n",
       "  </thead>\n",
       "  <tbody>\n",
       "    <tr>\n",
       "      <th>0</th>\n",
       "      <td>3</td>\n",
       "      <td>3</td>\n",
       "      <td>0</td>\n",
       "      <td>0</td>\n",
       "      <td>0</td>\n",
       "      <td>1</td>\n",
       "    </tr>\n",
       "    <tr>\n",
       "      <th>1</th>\n",
       "      <td>3</td>\n",
       "      <td>3</td>\n",
       "      <td>0</td>\n",
       "      <td>0</td>\n",
       "      <td>0</td>\n",
       "      <td>2</td>\n",
       "    </tr>\n",
       "    <tr>\n",
       "      <th>2</th>\n",
       "      <td>3</td>\n",
       "      <td>3</td>\n",
       "      <td>0</td>\n",
       "      <td>0</td>\n",
       "      <td>1</td>\n",
       "      <td>0</td>\n",
       "    </tr>\n",
       "    <tr>\n",
       "      <th>3</th>\n",
       "      <td>3</td>\n",
       "      <td>3</td>\n",
       "      <td>0</td>\n",
       "      <td>0</td>\n",
       "      <td>1</td>\n",
       "      <td>1</td>\n",
       "    </tr>\n",
       "    <tr>\n",
       "      <th>4</th>\n",
       "      <td>3</td>\n",
       "      <td>3</td>\n",
       "      <td>0</td>\n",
       "      <td>0</td>\n",
       "      <td>1</td>\n",
       "      <td>2</td>\n",
       "    </tr>\n",
       "  </tbody>\n",
       "</table>\n",
       "</div>"
      ],
      "text/plain": [
       "   buying  maint  doors  persons  lug_boot  safety\n",
       "0       3      3      0        0         0       1\n",
       "1       3      3      0        0         0       2\n",
       "2       3      3      0        0         1       0\n",
       "3       3      3      0        0         1       1\n",
       "4       3      3      0        0         1       2"
      ]
     },
     "execution_count": 31,
     "metadata": {},
     "output_type": "execute_result"
    }
   ],
   "source": [
    "X.head()"
   ]
  },
  {
   "cell_type": "code",
   "execution_count": 100,
   "id": "a31d435c",
   "metadata": {},
   "outputs": [],
   "source": [
    "from sklearn.model_selection import train_test_split\n",
    "from sklearn.metrics import confusion_matrix, accuracy_score, classification_report, roc_auc_score\n",
    "from sklearn.ensemble import RandomForestClassifier\n",
    "from sklearn.neighbors import KNeighborsClassifier\n",
    "from sklearn.model_selection import train_test_split, StratifiedKFold, KFold, GridSearchCV,cross_val_score\n",
    "from sklearn.svm import SVC\n"
   ]
  },
  {
   "cell_type": "markdown",
   "id": "393c2262",
   "metadata": {},
   "source": [
    "Spliting the for training and testing"
   ]
  },
  {
   "cell_type": "code",
   "execution_count": 62,
   "id": "210ac34c",
   "metadata": {},
   "outputs": [],
   "source": [
    "X_train , X_test, y_train, y_test = train_test_split(X, y, test_size=0.25, random_state=42)"
   ]
  },
  {
   "cell_type": "markdown",
   "id": "5f156318",
   "metadata": {},
   "source": [
    "## KNeighbors Classifier Model"
   ]
  },
  {
   "cell_type": "code",
   "execution_count": 67,
   "id": "3bb48f9a",
   "metadata": {},
   "outputs": [],
   "source": [
    "cv = StratifiedKFold(n_splits=10, shuffle=True, random_state=45)"
   ]
  },
  {
   "cell_type": "code",
   "execution_count": 68,
   "id": "b69d5914",
   "metadata": {},
   "outputs": [],
   "source": [
    "para_knn = {'n_neighbors':list(range(1,16)),'weights':['uniform','distance']}\n",
    "knn = KNeighborsClassifier()\n",
    "grid_knn = GridSearchCV(knn, para_knn, cv = cv, scoring='f1_micro')\n",
    "grid_knn.fit(X_train,y_train)\n",
    "y_pred_knn = grid_knn.predict(X_test)\n",
    "nested_score_knn = cross_val_score(grid_knn, X = X, y = y, cv = cv) \n"
   ]
  },
  {
   "cell_type": "code",
   "execution_count": 70,
   "id": "a27fe45a",
   "metadata": {},
   "outputs": [
    {
     "data": {
      "text/plain": [
       "{'n_neighbors': 7, 'weights': 'distance'}"
      ]
     },
     "execution_count": 70,
     "metadata": {},
     "output_type": "execute_result"
    }
   ],
   "source": [
    "grid_knn.best_params_"
   ]
  },
  {
   "cell_type": "code",
   "execution_count": 88,
   "id": "84ce1830",
   "metadata": {},
   "outputs": [
    {
     "data": {
      "text/plain": [
       "0.9490740740740741"
      ]
     },
     "execution_count": 88,
     "metadata": {},
     "output_type": "execute_result"
    }
   ],
   "source": [
    "accuracy_score(y_test, y_pred_knn)"
   ]
  },
  {
   "cell_type": "markdown",
   "id": "0b2a9d96",
   "metadata": {},
   "source": [
    "The model was correct with 94.9% of its predictions. \n",
    "\n",
    "Though the accuracy is a useful indicator of performance, a confusion matrix can be used to delve into more detail. Here it shows totals of the classifier's correct and incorrect predicted labels vs the actual labels for the test set. "
   ]
  },
  {
   "cell_type": "code",
   "execution_count": 90,
   "id": "3809559a",
   "metadata": {},
   "outputs": [
    {
     "data": {
      "text/plain": [
       "array([[290,   0,   0,   0],\n",
       "       [ 10,  94,   1,   0],\n",
       "       [  1,   4,   9,   2],\n",
       "       [  0,   3,   1,  17]], dtype=int64)"
      ]
     },
     "execution_count": 90,
     "metadata": {},
     "output_type": "execute_result"
    }
   ],
   "source": [
    "confusion_matrix(y_test, y_pred_knn, labels=[0, 1, 2, 3])"
   ]
  },
  {
   "cell_type": "markdown",
   "id": "0b08eefb",
   "metadata": {},
   "source": [
    "\n",
    "The rows show the actual labels and the columns show the predicted labels.\n",
    "\n",
    "The first row/column shows the actual/predicted unacceptable class labels. The precision is 96.3% (290/301) and the recall is 100% (290/290). The model classifier performed very well for this class.\n",
    "\n",
    "The acceptable class has a precision of 93.1% (94/101) and a recall 89.5% (94/105)\n",
    "\n",
    "The good class has a precision of 81.8% (94/101) and a recall 56.3% (9/16). The vgood class has a precision of 89.5% (17/19) and a recall 80.1% (17/21)\n",
    "\n",
    "The classifier did well in predicting the unacceptable class, followed by the acceptable class. Perhaps this is because the classifier had more unacceptable class data to train on than it did the others and the acceptable car class too outnumberd the remaining class. \n",
    "Both of these classes had significantly less data for the classifier to train on than the two already mentioned, so again these lower values might result from that.\n"
   ]
  },
  {
   "cell_type": "code",
   "execution_count": 71,
   "id": "9cbe90e2",
   "metadata": {},
   "outputs": [
    {
     "name": "stdout",
     "output_type": "stream",
     "text": [
      "              precision    recall  f1-score   support\n",
      "\n",
      "           0       0.96      1.00      0.98       290\n",
      "           1       0.93      0.90      0.91       105\n",
      "           2       0.82      0.56      0.67        16\n",
      "           3       0.89      0.81      0.85        21\n",
      "\n",
      "    accuracy                           0.95       432\n",
      "   macro avg       0.90      0.82      0.85       432\n",
      "weighted avg       0.95      0.95      0.95       432\n",
      "\n"
     ]
    }
   ],
   "source": [
    "print(classification_report(y_test,y_pred_knn))"
   ]
  },
  {
   "cell_type": "markdown",
   "id": "262420df",
   "metadata": {},
   "source": [
    "## Random Forest Classifier Model"
   ]
  },
  {
   "cell_type": "code",
   "execution_count": 34,
   "id": "991c2e33",
   "metadata": {},
   "outputs": [],
   "source": [
    "rf_classifier = RandomForestClassifier(n_estimators=100, random_state=42)\n",
    "rf_classifier.fit(X_train, y_train)\n",
    "y_predict = rf_classifier.predict(X_test)\n",
    "# y_predict"
   ]
  },
  {
   "cell_type": "markdown",
   "id": "07ed6717",
   "metadata": {},
   "source": [
    "- Lets Check the Accuracy"
   ]
  },
  {
   "cell_type": "code",
   "execution_count": 35,
   "id": "defb5f9b",
   "metadata": {},
   "outputs": [
    {
     "data": {
      "text/plain": [
       "0.9652777777777778"
      ]
     },
     "execution_count": 35,
     "metadata": {},
     "output_type": "execute_result"
    }
   ],
   "source": [
    "accuracy_score(y_test, y_predict)"
   ]
  },
  {
   "cell_type": "markdown",
   "id": "0913cf29",
   "metadata": {},
   "source": [
    "The Accuracy of the model is around 96%"
   ]
  },
  {
   "cell_type": "code",
   "execution_count": 36,
   "id": "d35b6680",
   "metadata": {},
   "outputs": [
    {
     "data": {
      "text/plain": [
       "array([[290,   0,   0,   0],\n",
       "       [  2, 100,   2,   1],\n",
       "       [  0,   0,  12,   4],\n",
       "       [  0,   5,   1,  15]], dtype=int64)"
      ]
     },
     "execution_count": 36,
     "metadata": {},
     "output_type": "execute_result"
    }
   ],
   "source": [
    "# The labels were mapped in this order (unacc=0, acc=1, good=2, vgood=3)\n",
    "confusion_matrix(y_test, y_predict, labels=[0, 1, 2, 3])"
   ]
  },
  {
   "cell_type": "code",
   "execution_count": 37,
   "id": "6967537f",
   "metadata": {},
   "outputs": [
    {
     "name": "stdout",
     "output_type": "stream",
     "text": [
      "              precision    recall  f1-score   support\n",
      "\n",
      "           0       0.99      1.00      1.00       290\n",
      "           1       0.95      0.95      0.95       105\n",
      "           2       0.80      0.75      0.77        16\n",
      "           3       0.75      0.71      0.73        21\n",
      "\n",
      "    accuracy                           0.97       432\n",
      "   macro avg       0.87      0.85      0.86       432\n",
      "weighted avg       0.96      0.97      0.96       432\n",
      "\n"
     ]
    }
   ],
   "source": [
    "print(classification_report(y_test, y_predict, labels=[0, 1, 2, 3]))"
   ]
  },
  {
   "cell_type": "markdown",
   "id": "a9a13229",
   "metadata": {},
   "source": [
    "## SVM Classifier"
   ]
  },
  {
   "cell_type": "code",
   "execution_count": 102,
   "id": "bb6dc754",
   "metadata": {},
   "outputs": [],
   "source": [
    "para_svm = {'kernel':['rbf'],'C':[10],'gamma':[5]} \n",
    "svm = SVC(random_state = 45,probability = True)\n",
    "grid_svm = GridSearchCV(svm, para_svm, cv = cv, scoring='f1_micro')\n",
    "grid_svm.fit(X_train, y_train)\n",
    "y_pred_svm = grid_svm.predict(X_test)\n"
   ]
  },
  {
   "cell_type": "code",
   "execution_count": 103,
   "id": "5d76041e",
   "metadata": {},
   "outputs": [
    {
     "data": {
      "text/plain": [
       "0.6712962962962963"
      ]
     },
     "execution_count": 103,
     "metadata": {},
     "output_type": "execute_result"
    }
   ],
   "source": [
    "accuracy_score(y_test, y_pred_svm)"
   ]
  },
  {
   "cell_type": "code",
   "execution_count": 98,
   "id": "03cb495b",
   "metadata": {},
   "outputs": [
    {
     "name": "stdout",
     "output_type": "stream",
     "text": [
      "              precision    recall  f1-score   support\n",
      "\n",
      "           0       0.67      1.00      0.80       290\n",
      "           1       0.00      0.00      0.00       105\n",
      "           2       0.00      0.00      0.00        16\n",
      "           3       0.00      0.00      0.00        21\n",
      "\n",
      "    accuracy                           0.67       432\n",
      "   macro avg       0.17      0.25      0.20       432\n",
      "weighted avg       0.45      0.67      0.54       432\n",
      "\n"
     ]
    },
    {
     "name": "stderr",
     "output_type": "stream",
     "text": [
      "C:\\Users\\Trainee-Judah\\anaconda3\\lib\\site-packages\\sklearn\\metrics\\_classification.py:1245: UndefinedMetricWarning: Precision and F-score are ill-defined and being set to 0.0 in labels with no predicted samples. Use `zero_division` parameter to control this behavior.\n",
      "  _warn_prf(average, modifier, msg_start, len(result))\n",
      "C:\\Users\\Trainee-Judah\\anaconda3\\lib\\site-packages\\sklearn\\metrics\\_classification.py:1245: UndefinedMetricWarning: Precision and F-score are ill-defined and being set to 0.0 in labels with no predicted samples. Use `zero_division` parameter to control this behavior.\n",
      "  _warn_prf(average, modifier, msg_start, len(result))\n",
      "C:\\Users\\Trainee-Judah\\anaconda3\\lib\\site-packages\\sklearn\\metrics\\_classification.py:1245: UndefinedMetricWarning: Precision and F-score are ill-defined and being set to 0.0 in labels with no predicted samples. Use `zero_division` parameter to control this behavior.\n",
      "  _warn_prf(average, modifier, msg_start, len(result))\n"
     ]
    }
   ],
   "source": [
    "print(classification_report(y_test, y_pred_svm, labels=[0, 1, 2, 3]))"
   ]
  },
  {
   "cell_type": "markdown",
   "id": "de0f8b2c",
   "metadata": {},
   "source": [
    "## Future Selections"
   ]
  },
  {
   "cell_type": "markdown",
   "id": "2d66d985",
   "metadata": {},
   "source": [
    "I would like to see if feature selection can be used to achieve a model with beter accuracy. \n",
    "Large datasets can have a lot of columns and it is expensive in terms of time and memory to use all the features. Selecting the proper features can improve model accuracy and also reduce the situation overfitting."
   ]
  },
  {
   "cell_type": "code",
   "execution_count": 42,
   "id": "94613f1d",
   "metadata": {},
   "outputs": [
    {
     "name": "stdout",
     "output_type": "stream",
     "text": [
      "buying: 0.16332590471471764\n",
      "maint: 0.13933196715757798\n",
      "doors: 0.06053651587310664\n",
      "persons: 0.23455309602493865\n",
      "lug_boot: 0.08878827913849228\n",
      "safety: 0.3134642370911669\n"
     ]
    }
   ],
   "source": [
    "\n",
    "feat_names = list(X.columns.values)\n",
    "feat_importances = rf_classifier.feature_importances_\n",
    "\n",
    "for name, imp in zip(feat_names, feat_importances):\n",
    "    print(\"{}: {}\".format(name, imp))"
   ]
  },
  {
   "cell_type": "code",
   "execution_count": 43,
   "id": "12cbd171",
   "metadata": {},
   "outputs": [
    {
     "data": {
      "image/png": "[encoded data removed]",
      "text/plain": [
       "<Figure size 432x288 with 1 Axes>"
      ]
     },
     "metadata": {},
     "output_type": "display_data"
    }
   ],
   "source": [
    "# Create bar plot of feature importance.\n",
    "feat_imp_plot = sns.barplot(y=feat_importances, x=feat_names)\n",
    "sns.set_style('darkgrid')\n",
    "plt.title(\"Feature importances\")\n",
    "plt.xlabel('Name')\n",
    "plt.ylabel('Importance')\n",
    "feat_imp_plot.set_xticklabels(feat_imp_plot.get_xticklabels(), rotation=90)\n",
    "plt.show()"
   ]
  },
  {
   "cell_type": "markdown",
   "id": "e2ffa78c",
   "metadata": {},
   "source": [
    "Safety, responsible for almost a third of the prediction, is the most important feature in this car evaluation dataset. The number of doors  and luggage size are the features that have the least impact on the predictions. "
   ]
  },
  {
   "cell_type": "code",
   "execution_count": 91,
   "id": "c6fba319",
   "metadata": {},
   "outputs": [],
   "source": [
    "from sklearn.feature_selection import SelectFromModel\n",
    "\n",
    "num_selected_features = []\n",
    "acc_scores = []\n",
    "\n",
    "for importance in feat_importances:\n",
    "    \n",
    "    sfm = SelectFromModel(rf_classifier, threshold=importance)\n",
    "    sfm.fit(X_train, y_train)\n",
    "    imp_feature_indices = sfm.get_support(indices=True)\n",
    "    \n",
    "    selected_features_count = len(imp_feature_indices)\n",
    "    num_selected_features.append(selected_features_count)\n",
    "    \n",
    "    X_fstrain = sfm.transform(X_train)\n",
    "    X_fstest = sfm.transform(X_test)\n",
    "\n",
    "    clf_fs = RandomForestClassifier(n_estimators=100, random_state=42)\n",
    "    clf_fs.fit(X_fstrain, y_train)\n",
    "    y_fspred = clf_fs.predict(X_fstest)\n",
    "    \n",
    "    acc = accuracy_score(y_test, y_fspred)\n",
    "    acc_scores.append(acc)\n",
    "    "
   ]
  },
  {
   "cell_type": "code",
   "execution_count": 60,
   "id": "8c9a7429",
   "metadata": {},
   "outputs": [
    {
     "name": "stderr",
     "output_type": "stream",
     "text": [
      "C:\\Users\\Trainee-Judah\\anaconda3\\lib\\site-packages\\seaborn\\_decorators.py:36: FutureWarning: Pass the following variables as keyword args: x, y. From version 0.12, the only valid positional argument will be `data`, and passing other arguments without an explicit keyword will result in an error or misinterpretation.\n",
      "  warnings.warn(\n"
     ]
    },
    {
     "data": {
      "image/png": "[encoded data removed]",
      "text/plain": [
       "<Figure size 432x288 with 1 Axes>"
      ]
     },
     "metadata": {},
     "output_type": "display_data"
    }
   ],
   "source": [
    "sns.scatterplot(feat_importances, acc_scores, marker='x')\n",
    "sns.set_style('darkgrid')\n",
    "plt.yticks(np.arange(0.5, 1, 0.05))\n",
    "plt.title(\"Feature selection accuracy scores\")\n",
    "plt.xlabel(\"Threshold importance\")\n",
    "plt.ylabel(\"Accuracy score\")\n",
    "plt.show()"
   ]
  },
  {
   "cell_type": "markdown",
   "id": "548e144c",
   "metadata": {},
   "source": [
    "The graph clearly shows that the model performs well with all features present. As features are eliminated, the model's performance decreases"
   ]
  },
  {
   "cell_type": "markdown",
   "id": "dffcfe17",
   "metadata": {},
   "source": [
    "### Model Comparism"
   ]
  },
  {
   "cell_type": "markdown",
   "id": "7df67311",
   "metadata": {},
   "source": [
    "From all the performance metrics, random forest classifier perfromed better than all the classifiers"
   ]
  },
  {
   "cell_type": "code",
   "execution_count": 76,
   "id": "192e88f7",
   "metadata": {},
   "outputs": [],
   "source": [
    "with open(\"rf_classifier.pkl\", \"wb\") as rf_model:\n",
    "    joblib.dump(rf_classifier, rf_model)"
   ]
  },
  {
   "cell_type": "code",
   "execution_count": 77,
   "id": "6c1c92e3",
   "metadata": {},
   "outputs": [],
   "source": [
    "with open(\"knn_classifier.pkl\", \"wb\") as knn_model:\n",
    "    joblib.dump(knn , knn_model)"
   ]
  }
 ],
 "metadata": {
  "kernelspec": {
   "display_name": "Python 3",
   "language": "python",
   "name": "python3"
  },
  "language_info": {
   "codemirror_mode": {
    "name": "ipython",
    "version": 3
   },
   "file_extension": ".py",
   "mimetype": "text/x-python",
   "name": "python",
   "nbconvert_exporter": "python",
   "pygments_lexer": "ipython3",
   "version": "3.8.8"
  }
 },
 "nbformat": 4,
 "nbformat_minor": 5
}
